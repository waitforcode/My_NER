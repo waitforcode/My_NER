{
 "cells": [
  {
   "cell_type": "markdown",
   "metadata": {},
   "source": [
    "<h1> Andrey Lukyanenko NER talk (sberloga) adption for ru WikiNer dataset"
   ]
  },
  {
   "cell_type": "code",
   "execution_count": 87,
   "metadata": {},
   "outputs": [],
   "source": [
    "import sklearn_crfsuite\n",
    "from sklearn_crfsuite import metrics\n",
    "from sklearn_crfsuite import scorers\n",
    "from sklearn.model_selection import train_test_split\n",
    "\n",
    "import pandas as pd\n",
    "import re\n",
    "\n",
    "import bz2\n",
    "from collections import Counter\n",
    "# from operator import itemgetter\n"
   ]
  },
  {
   "cell_type": "code",
   "execution_count": 2,
   "metadata": {},
   "outputs": [],
   "source": [
    "with bz2.open('../aij-wikiner-ru-wp3.bz2', 'rt', encoding='utf-8') as f:\n",
    "    dataset = f.read()"
   ]
  },
  {
   "cell_type": "code",
   "execution_count": 34,
   "metadata": {
    "scrolled": true
   },
   "outputs": [
    {
     "data": {
      "text/plain": [
       "'\\nНа|PR|O севере|S|O граничит|V|O с|PR|O Латвией|S|I-LOC ,|PUNCT|O на|PR|O востоке|S|O --|PUNCT|O с|PR|O Белоруссией|S|I-LOC ,|PUNCT|O на|PR|O юго-западе|S|O --|PUNCT|O c|PR|O Польшей|S|I-LOC и|CONJ|O Калининградской|A|I-LOC областью|S|I-LOC России|S|B-LOC .|SENT|O\\nВ|PR|O договоре|S|O среди|PR|O 5|NUM|O старших|A|O князей|S|O упоминается|V|O Миндовг|S|I-PER .|SENT|O\\nОни|S-PRO|O покорили|V|O Пруссию|S|I-LOC и|CONJ|O Ливонию|S|I-LOC .|SENT|O\\nВ|PR|O 1904|NUM|O году|S|O Запрет|S|I-MISC на|PR|I-MISC л'"
      ]
     },
     "execution_count": 34,
     "metadata": {},
     "output_type": "execute_result"
    }
   ],
   "source": [
    "dataset[:500]"
   ]
  },
  {
   "cell_type": "code",
   "execution_count": 35,
   "metadata": {},
   "outputs": [],
   "source": [
    "sentences = dataset.split('\\n')"
   ]
  },
  {
   "cell_type": "code",
   "execution_count": 62,
   "metadata": {},
   "outputs": [],
   "source": [
    "data = []\n",
    "for sent in sentences[1:]:\n",
    "#     tokens = [itemgetter(*[0,2])(token.split('|')) if len(token)>2 else [] for token in sent.split()]    \n",
    "    tokens = [tuple(token.split('|')) for token in sent.split()]\n",
    "    data.append(tokens)"
   ]
  },
  {
   "cell_type": "code",
   "execution_count": 90,
   "metadata": {
    "scrolled": true
   },
   "outputs": [
    {
     "data": {
      "text/plain": [
       "[[('На', 'PR', 'O'),\n",
       "  ('севере', 'S', 'O'),\n",
       "  ('граничит', 'V', 'O'),\n",
       "  ('с', 'PR', 'O'),\n",
       "  ('Латвией', 'S', 'I-LOC'),\n",
       "  (',', 'PUNCT', 'O'),\n",
       "  ('на', 'PR', 'O'),\n",
       "  ('востоке', 'S', 'O'),\n",
       "  ('--', 'PUNCT', 'O'),\n",
       "  ('с', 'PR', 'O'),\n",
       "  ('Белоруссией', 'S', 'I-LOC'),\n",
       "  (',', 'PUNCT', 'O'),\n",
       "  ('на', 'PR', 'O'),\n",
       "  ('юго-западе', 'S', 'O'),\n",
       "  ('--', 'PUNCT', 'O'),\n",
       "  ('c', 'PR', 'O'),\n",
       "  ('Польшей', 'S', 'I-LOC'),\n",
       "  ('и', 'CONJ', 'O'),\n",
       "  ('Калининградской', 'A', 'I-LOC'),\n",
       "  ('областью', 'S', 'I-LOC'),\n",
       "  ('России', 'S', 'B-LOC'),\n",
       "  ('.', 'SENT', 'O')],\n",
       " [('В', 'PR', 'O'),\n",
       "  ('договоре', 'S', 'O'),\n",
       "  ('среди', 'PR', 'O'),\n",
       "  ('5', 'NUM', 'O'),\n",
       "  ('старших', 'A', 'O'),\n",
       "  ('князей', 'S', 'O'),\n",
       "  ('упоминается', 'V', 'O'),\n",
       "  ('Миндовг', 'S', 'I-PER'),\n",
       "  ('.', 'SENT', 'O')],\n",
       " [('Они', 'S-PRO', 'O'),\n",
       "  ('покорили', 'V', 'O'),\n",
       "  ('Пруссию', 'S', 'I-LOC'),\n",
       "  ('и', 'CONJ', 'O'),\n",
       "  ('Ливонию', 'S', 'I-LOC'),\n",
       "  ('.', 'SENT', 'O')],\n",
       " [('В', 'PR', 'O'),\n",
       "  ('1904', 'NUM', 'O'),\n",
       "  ('году', 'S', 'O'),\n",
       "  ('Запрет', 'S', 'I-MISC'),\n",
       "  ('на', 'PR', 'I-MISC'),\n",
       "  ('литовскую', 'A', 'I-MISC'),\n",
       "  ('печать', 'S', 'I-MISC'),\n",
       "  ('был', 'V', 'O'),\n",
       "  ('отменен', 'V', 'O'),\n",
       "  ('.', 'SENT', 'O')],\n",
       " [('На', 'PR', 'O'),\n",
       "  ('престол', 'S', 'O'),\n",
       "  ('было', 'V', 'O'),\n",
       "  ('решено', 'V', 'O'),\n",
       "  ('пригласить', 'V', 'O'),\n",
       "  ('немецкого', 'A', 'O'),\n",
       "  ('принца', 'S', 'O'),\n",
       "  ('Вильгельма', 'S', 'I-PER'),\n",
       "  ('фон', 'S', 'I-PER'),\n",
       "  ('Ураха', 'S', 'I-PER'),\n",
       "  ('.', 'SENT', 'O')],\n",
       " [('В', 'PR', 'O'),\n",
       "  ('2001', 'NUM', 'O'),\n",
       "  ('году', 'S', 'O'),\n",
       "  ('вступила', 'V', 'O'),\n",
       "  ('во', 'PR', 'O'),\n",
       "  ('Всемирную', 'A', 'I-ORG'),\n",
       "  ('торговую', 'A', 'I-ORG'),\n",
       "  ('организацию', 'S', 'I-ORG'),\n",
       "  ('.', 'SENT', 'O')],\n",
       " [('Новым', 'A', 'O'),\n",
       "  ('председателем', 'S', 'O'),\n",
       "  ('был', 'V', 'O'),\n",
       "  ('избран', 'A', 'O'),\n",
       "  ('Викторас', 'S', 'I-PER'),\n",
       "  ('Мунтянас', 'S', 'I-PER'),\n",
       "  ('.', 'SENT', 'O')],\n",
       " [('Впервые', 'ADV', 'O'),\n",
       "  ('в', 'PR', 'O'),\n",
       "  ('истории', 'S', 'O'),\n",
       "  ('страны', 'S', 'O'),\n",
       "  ('на', 'PR', 'O'),\n",
       "  ('них', 'S-PRO', 'O'),\n",
       "  ('победила', 'V', 'O'),\n",
       "  ('женщина', 'S', 'O'),\n",
       "  ('--', 'PUNCT', 'O'),\n",
       "  ('Даля', 'S', 'I-PER'),\n",
       "  ('Грибаускайте', 'V', 'I-PER'),\n",
       "  (',', 'PUNCT', 'O'),\n",
       "  ('за', 'PR', 'O'),\n",
       "  ('которую', 'A-PRO', 'O'),\n",
       "  ('проголосовали', 'V', 'O'),\n",
       "  ('68,90', 'NUM', 'O'),\n",
       "  ('%', 'S', 'O'),\n",
       "  ('избирателей', 'S', 'O'),\n",
       "  ('.', 'SENT', 'O')],\n",
       " [('Под', 'PR', 'O'),\n",
       "  ('действие', 'S', 'O'),\n",
       "  ('литовского', 'A', 'O'),\n",
       "  ('закона', 'S', 'O'),\n",
       "  ('также', 'PART', 'O'),\n",
       "  ('подпадают', 'V', 'O'),\n",
       "  ('исполнение', 'S', 'O'),\n",
       "  ('современного', 'A', 'O'),\n",
       "  ('гимна', 'S', 'I-MISC'),\n",
       "  ('России', 'S', 'I-MISC'),\n",
       "  ('[', 'PUNCT', 'O'),\n",
       "  ('источник', 'S', 'O'),\n",
       "  ('не', 'PART', 'O'),\n",
       "  ('указан', 'V', 'O'),\n",
       "  ('479', 'NUM', 'O'),\n",
       "  (']', 'PUNCT', 'O'),\n",
       "  ('и', 'CONJ', 'O'),\n",
       "  ('знамя', 'S', 'I-MISC'),\n",
       "  ('Победы', 'S', 'I-MISC'),\n",
       "  ('.', 'SENT', 'O')],\n",
       " [('Крупнейшие', 'A', 'O'),\n",
       "  ('реки', 'S', 'O'),\n",
       "  ('--', 'PUNCT', 'O'),\n",
       "  ('Неман', 'S', 'I-LOC'),\n",
       "  ('и', 'CONJ', 'O'),\n",
       "  ('Нерис', 'S', 'I-LOC'),\n",
       "  ('.', 'SENT', 'O')]]"
      ]
     },
     "execution_count": 90,
     "metadata": {},
     "output_type": "execute_result"
    }
   ],
   "source": [
    "data[:10]"
   ]
  },
  {
   "cell_type": "code",
   "execution_count": 47,
   "metadata": {},
   "outputs": [],
   "source": [
    "# df = pd.DataFrame([t for j in data for t in j], columns=['data', 'ents'])\n",
    "# df['sent_id'] = [i for j in [[i] * len(s) for i, s in enumerate(data)] for i in j]"
   ]
  },
  {
   "cell_type": "code",
   "execution_count": 69,
   "metadata": {},
   "outputs": [],
   "source": [
    "def word2features(sent, i):\n",
    "    word = sent[i][0]\n",
    "    postag = sent[i][1]\n",
    "    \n",
    "    features = {\n",
    "        'bias': 1.0,\n",
    "        'word.lower()': word.lower(),\n",
    "        'word[-3:]': word[-3:],\n",
    "        'word.isupper()': word.isupper(),\n",
    "        'word.istitle()': word.istitle(),\n",
    "        'word.isdigit()': word.isdigit(),\n",
    "        'postag': postag,\n",
    "    }\n",
    "    if i > 0:\n",
    "        word1 = sent[i-1][0]\n",
    "        postag1 = sent[i-1][1]\n",
    "        features.update({\n",
    "            '-1:word.lower()': word1.lower(),\n",
    "            '-1:word.istitle()': word1.istitle(),\n",
    "            '-1:word.isupper()': word1.isupper(),\n",
    "            '-1:postag': postag1,            \n",
    "        })\n",
    "    else:\n",
    "        features['BOS'] = True\n",
    "    \n",
    "    if i < len(sent) - 1:\n",
    "        word1 = sent[i+1][0]\n",
    "        postag1 = sent[i+1][1]\n",
    "        features.update({\n",
    "            '+1:word.lower()': word1.lower(),\n",
    "            '+1:word.istitle()': word1.istitle(),\n",
    "            '+1:word.isupper()': word1.isupper(),\n",
    "            '+1:postag': postag1,\n",
    "        })\n",
    "    else:\n",
    "        features['EOS'] = True\n",
    "        \n",
    "    return features\n",
    "\n",
    "\n",
    "def sent2features(sent):\n",
    "    return [word2features(sent, i) for i in range(len(sent))]\n",
    "\n",
    "def sent2labels(sent):\n",
    "    return [label for token, postag, label in sent]\n",
    "\n",
    "def sent2tokens(sent):\n",
    "    return [token for token, postag, label in sent]   "
   ]
  },
  {
   "cell_type": "code",
   "execution_count": 70,
   "metadata": {},
   "outputs": [],
   "source": [
    "X = [sent2features(s) for s in data]\n",
    "y = [sent2labels(s) for s in data]"
   ]
  },
  {
   "cell_type": "code",
   "execution_count": 71,
   "metadata": {
    "scrolled": true
   },
   "outputs": [
    {
     "data": {
      "text/plain": [
       "[{'bias': 1.0,\n",
       "  'word.lower()': 'на',\n",
       "  'word[-3:]': 'На',\n",
       "  'word.isupper()': False,\n",
       "  'word.istitle()': True,\n",
       "  'word.isdigit()': False,\n",
       "  'postag': 'PR',\n",
       "  'BOS': True,\n",
       "  '+1:word.lower()': 'севере',\n",
       "  '+1:word.istitle()': False,\n",
       "  '+1:word.isupper()': False,\n",
       "  '+1:postag': 'S'},\n",
       " {'bias': 1.0,\n",
       "  'word.lower()': 'севере',\n",
       "  'word[-3:]': 'ере',\n",
       "  'word.isupper()': False,\n",
       "  'word.istitle()': False,\n",
       "  'word.isdigit()': False,\n",
       "  'postag': 'S',\n",
       "  '-1:word.lower()': 'на',\n",
       "  '-1:word.istitle()': True,\n",
       "  '-1:word.isupper()': False,\n",
       "  '-1:postag': 'PR',\n",
       "  '+1:word.lower()': 'граничит',\n",
       "  '+1:word.istitle()': False,\n",
       "  '+1:word.isupper()': False,\n",
       "  '+1:postag': 'V'}]"
      ]
     },
     "execution_count": 71,
     "metadata": {},
     "output_type": "execute_result"
    }
   ],
   "source": [
    "X[0][:2]"
   ]
  },
  {
   "cell_type": "code",
   "execution_count": 76,
   "metadata": {},
   "outputs": [],
   "source": [
    "X_train, X_test, y_train, y_test = train_test_split(X, y, test_size=0.33, random_state=42)"
   ]
  },
  {
   "cell_type": "code",
   "execution_count": 77,
   "metadata": {},
   "outputs": [
    {
     "name": "stderr",
     "output_type": "stream",
     "text": [
      "loading training data to CRFsuite: 100%|█████████████████████████████████████| 221182/221182 [00:22<00:00, 9847.38it/s]\n"
     ]
    },
    {
     "name": "stdout",
     "output_type": "stream",
     "text": [
      "\n",
      "Feature generation\n",
      "type: CRF1d\n",
      "feature.minfreq: 0.000000\n",
      "feature.possible_states: 0\n",
      "feature.possible_transitions: 1\n",
      "0....1....2....3....4....5....6....7....8....9....10\n",
      "Number of features: 720833\n",
      "Seconds required: 5.698\n",
      "\n",
      "L-BFGS optimization\n",
      "c1: 0.100000\n",
      "c2: 0.100000\n",
      "num_memories: 6\n",
      "max_iterations: 100\n",
      "epsilon: 0.000010\n",
      "stop: 10\n",
      "delta: 0.000010\n",
      "linesearch: MoreThuente\n",
      "linesearch.max_iterations: 20\n",
      "\n",
      "Iter 1   time=3.79  loss=2653553.60 active=718797 feature_norm=1.00\n",
      "Iter 2   time=1.89  loss=2521037.73 active=703864 feature_norm=3.60\n",
      "Iter 3   time=2.00  loss=1940386.22 active=698166 feature_norm=3.06\n",
      "Iter 4   time=7.90  loss=1268259.01 active=702629 feature_norm=2.59\n",
      "Iter 5   time=1.90  loss=1122937.20 active=712753 feature_norm=3.10\n",
      "Iter 6   time=1.92  loss=849653.03 active=713717 feature_norm=5.18\n",
      "Iter 7   time=1.92  loss=776750.40 active=691562 feature_norm=6.12\n",
      "Iter 8   time=1.96  loss=712418.08 active=675785 feature_norm=6.70\n",
      "Iter 9   time=2.04  loss=606399.02 active=601668 feature_norm=8.59\n",
      "Iter 10  time=1.97  loss=603822.44 active=520622 feature_norm=12.76\n",
      "Iter 11  time=1.94  loss=491429.30 active=522426 feature_norm=13.60\n",
      "Iter 12  time=1.91  loss=467108.23 active=522019 feature_norm=13.94\n",
      "Iter 13  time=1.95  loss=459437.90 active=513736 feature_norm=14.31\n",
      "Iter 14  time=1.92  loss=450946.24 active=506123 feature_norm=14.70\n",
      "Iter 15  time=2.14  loss=443111.07 active=493626 feature_norm=15.46\n",
      "Iter 16  time=2.15  loss=433298.02 active=484620 feature_norm=16.10\n",
      "Iter 17  time=2.00  loss=425550.94 active=476443 feature_norm=16.93\n",
      "Iter 18  time=1.97  loss=419566.29 active=471373 feature_norm=17.42\n",
      "Iter 19  time=1.99  loss=413209.04 active=465717 feature_norm=18.03\n",
      "Iter 20  time=2.19  loss=406381.18 active=457584 feature_norm=18.99\n",
      "Iter 21  time=2.17  loss=399730.59 active=448056 feature_norm=20.65\n",
      "Iter 22  time=2.13  loss=392622.51 active=444288 feature_norm=21.65\n",
      "Iter 23  time=2.00  loss=387680.75 active=439688 feature_norm=22.93\n",
      "Iter 24  time=1.95  loss=380842.50 active=432224 feature_norm=24.68\n",
      "Iter 25  time=1.96  loss=368960.60 active=422864 feature_norm=26.81\n",
      "Iter 26  time=2.00  loss=354116.35 active=413111 feature_norm=30.17\n",
      "Iter 27  time=2.06  loss=338900.73 active=400046 feature_norm=34.81\n",
      "Iter 28  time=2.10  loss=321589.83 active=399589 feature_norm=38.34\n",
      "Iter 29  time=2.22  loss=310678.50 active=391852 feature_norm=42.48\n",
      "Iter 30  time=2.22  loss=300514.16 active=384140 feature_norm=45.03\n",
      "Iter 31  time=2.17  loss=286358.52 active=370608 feature_norm=52.08\n",
      "Iter 32  time=2.19  loss=273563.81 active=352247 feature_norm=61.32\n",
      "Iter 33  time=2.18  loss=257643.22 active=339904 feature_norm=75.86\n",
      "Iter 34  time=2.01  loss=242859.95 active=337501 feature_norm=90.38\n",
      "Iter 35  time=2.31  loss=228903.93 active=328830 feature_norm=107.28\n",
      "Iter 36  time=2.45  loss=217604.59 active=329031 feature_norm=120.27\n",
      "Iter 37  time=2.44  loss=202579.04 active=326153 feature_norm=144.89\n",
      "Iter 38  time=2.48  loss=194910.33 active=325162 feature_norm=168.97\n",
      "Iter 39  time=2.35  loss=183567.82 active=320688 feature_norm=184.41\n",
      "Iter 40  time=2.19  loss=176130.05 active=308304 feature_norm=200.57\n",
      "Iter 41  time=2.23  loss=168403.67 active=305546 feature_norm=246.06\n",
      "Iter 42  time=2.12  loss=157852.98 active=309199 feature_norm=260.94\n",
      "Iter 43  time=2.15  loss=153838.70 active=308154 feature_norm=270.46\n",
      "Iter 44  time=2.22  loss=144335.48 active=291775 feature_norm=304.10\n",
      "Iter 45  time=2.13  loss=141092.84 active=290846 feature_norm=322.33\n",
      "Iter 46  time=2.20  loss=135568.86 active=287051 feature_norm=331.20\n",
      "Iter 47  time=2.12  loss=132041.60 active=282235 feature_norm=341.00\n",
      "Iter 48  time=2.15  loss=127314.58 active=277304 feature_norm=359.11\n",
      "Iter 49  time=2.08  loss=124581.62 active=267700 feature_norm=373.97\n",
      "Iter 50  time=2.09  loss=121152.47 active=267964 feature_norm=381.97\n",
      "Iter 51  time=2.08  loss=119449.22 active=267182 feature_norm=390.06\n",
      "Iter 52  time=2.11  loss=115898.38 active=257514 feature_norm=422.48\n",
      "Iter 53  time=2.08  loss=114463.05 active=257607 feature_norm=425.76\n",
      "Iter 54  time=2.09  loss=113510.75 active=256676 feature_norm=432.50\n",
      "Iter 55  time=2.10  loss=112075.25 active=249439 feature_norm=454.75\n",
      "Iter 56  time=2.09  loss=110944.96 active=251143 feature_norm=455.71\n",
      "Iter 57  time=2.05  loss=110636.56 active=251065 feature_norm=457.28\n",
      "Iter 58  time=1.99  loss=109821.22 active=247364 feature_norm=465.22\n",
      "Iter 59  time=1.92  loss=109177.93 active=246479 feature_norm=468.67\n",
      "Iter 60  time=1.92  loss=108490.63 active=242735 feature_norm=471.36\n",
      "Iter 61  time=1.91  loss=108036.75 active=240986 feature_norm=471.38\n",
      "Iter 62  time=1.91  loss=107706.92 active=240864 feature_norm=471.67\n",
      "Iter 63  time=1.91  loss=107417.99 active=239756 feature_norm=471.89\n",
      "Iter 64  time=1.94  loss=107041.60 active=237735 feature_norm=472.91\n",
      "Iter 65  time=2.08  loss=106566.67 active=236250 feature_norm=474.61\n",
      "Iter 66  time=2.20  loss=106217.13 active=234432 feature_norm=475.57\n",
      "Iter 67  time=2.02  loss=105819.48 active=232338 feature_norm=477.24\n",
      "Iter 68  time=2.01  loss=105395.48 active=229782 feature_norm=478.56\n",
      "Iter 69  time=2.04  loss=105061.76 active=228162 feature_norm=480.10\n",
      "Iter 70  time=2.06  loss=104760.52 active=226829 feature_norm=481.01\n",
      "Iter 71  time=2.18  loss=104451.30 active=225284 feature_norm=482.43\n",
      "Iter 72  time=2.06  loss=104182.39 active=224081 feature_norm=483.32\n",
      "Iter 73  time=2.02  loss=103920.98 active=222608 feature_norm=484.71\n",
      "Iter 74  time=1.94  loss=103688.88 active=221489 feature_norm=485.45\n",
      "Iter 75  time=2.01  loss=103472.67 active=220431 feature_norm=486.54\n",
      "Iter 76  time=1.99  loss=103275.69 active=219854 feature_norm=487.13\n",
      "Iter 77  time=1.94  loss=103088.82 active=218951 feature_norm=488.02\n",
      "Iter 78  time=2.09  loss=102925.44 active=218205 feature_norm=488.54\n",
      "Iter 79  time=2.19  loss=102781.85 active=217487 feature_norm=489.23\n",
      "Iter 80  time=2.09  loss=102644.90 active=216774 feature_norm=489.61\n",
      "Iter 81  time=2.03  loss=102518.72 active=215904 feature_norm=490.19\n",
      "Iter 82  time=1.93  loss=102411.85 active=215314 feature_norm=490.44\n",
      "Iter 83  time=1.93  loss=102302.03 active=214710 feature_norm=490.84\n",
      "Iter 84  time=1.93  loss=102202.73 active=214119 feature_norm=491.04\n",
      "Iter 85  time=1.92  loss=102118.21 active=213522 feature_norm=491.36\n",
      "Iter 86  time=1.92  loss=102043.04 active=213092 feature_norm=491.45\n",
      "Iter 87  time=1.94  loss=101971.82 active=212434 feature_norm=491.71\n",
      "Iter 88  time=1.92  loss=101907.97 active=211935 feature_norm=491.80\n",
      "Iter 89  time=1.94  loss=101849.28 active=211526 feature_norm=492.01\n",
      "Iter 90  time=1.91  loss=101794.22 active=211212 feature_norm=492.04\n",
      "Iter 91  time=1.93  loss=101738.05 active=210683 feature_norm=492.21\n",
      "Iter 92  time=1.91  loss=101684.95 active=210331 feature_norm=492.21\n",
      "Iter 93  time=1.91  loss=101638.87 active=209964 feature_norm=492.33\n",
      "Iter 94  time=1.94  loss=101592.56 active=209690 feature_norm=492.31\n",
      "Iter 95  time=1.93  loss=101550.25 active=209341 feature_norm=492.39\n",
      "Iter 96  time=1.92  loss=101505.35 active=209018 feature_norm=492.34\n",
      "Iter 97  time=1.94  loss=101465.09 active=208628 feature_norm=492.42\n",
      "Iter 98  time=1.91  loss=101424.76 active=208458 feature_norm=492.34\n",
      "Iter 99  time=1.93  loss=101388.04 active=208192 feature_norm=492.39\n",
      "Iter 100 time=1.91  loss=101352.15 active=208006 feature_norm=492.30\n",
      "L-BFGS terminated with the maximum number of iterations\n",
      "Total seconds required for training: 212.163\n",
      "\n",
      "Storing the model\n",
      "Number of active features: 208006 (720833)\n",
      "Number of active attributes: 146672 (616703)\n",
      "Number of active labels: 9 (9)\n",
      "Writing labels\n",
      "Writing attributes\n",
      "Writing feature references for transitions\n",
      "Writing feature references for attributes\n",
      "Seconds required: 0.140\n",
      "\n",
      "Wall time: 4min\n"
     ]
    },
    {
     "name": "stderr",
     "output_type": "stream",
     "text": [
      "C:\\Users\\Asus\\anaconda3\\envs\\nlp_env\\lib\\site-packages\\sklearn\\base.py:209: FutureWarning: From version 0.24, get_params will raise an AttributeError if a parameter cannot be retrieved as an instance attribute. Previously it would return None.\n",
      "  warnings.warn('From version 0.24, get_params will raise an '\n"
     ]
    },
    {
     "data": {
      "text/plain": [
       "CRF(algorithm='lbfgs', all_possible_transitions=True, c1=0.1, c2=0.1,\n",
       "    keep_tempfiles=None, max_iterations=100, verbose=True)"
      ]
     },
     "execution_count": 77,
     "metadata": {},
     "output_type": "execute_result"
    }
   ],
   "source": [
    "%%time\n",
    "crf = sklearn_crfsuite.CRF(\n",
    "    algorithm='lbfgs',\n",
    "    c1=0.1,\n",
    "    c2=0.1,\n",
    "    max_iterations=100,\n",
    "    all_possible_transitions=True,\n",
    "    verbose=True,\n",
    ")\n",
    "\n",
    "crf.fit(X_train, y_train)"
   ]
  },
  {
   "cell_type": "code",
   "execution_count": 80,
   "metadata": {},
   "outputs": [],
   "source": [
    "all_ents = list(crf.classes_)\n",
    "ents = [ent for ent in all_ents if ent != 'O']"
   ]
  },
  {
   "cell_type": "code",
   "execution_count": 79,
   "metadata": {},
   "outputs": [
    {
     "data": {
      "text/plain": [
       "0.9743895300067786"
      ]
     },
     "execution_count": 79,
     "metadata": {},
     "output_type": "execute_result"
    }
   ],
   "source": [
    "y_pred = crf.predict(X_test)\n",
    "metrics.flat_f1_score(y_test, y_pred, average='weighted', labels=all_ents)"
   ]
  },
  {
   "cell_type": "code",
   "execution_count": 81,
   "metadata": {},
   "outputs": [
    {
     "data": {
      "text/plain": [
       "0.8884256752687556"
      ]
     },
     "execution_count": 81,
     "metadata": {},
     "output_type": "execute_result"
    }
   ],
   "source": [
    "y_pred = crf.predict(X_test)\n",
    "metrics.flat_f1_score(y_test, y_pred, average='weighted', labels=ents)"
   ]
  },
  {
   "cell_type": "code",
   "execution_count": 85,
   "metadata": {},
   "outputs": [
    {
     "name": "stdout",
     "output_type": "stream",
     "text": [
      "              precision    recall  f1-score   support\n",
      "\n",
      "       B-LOC      0.832     0.677     0.747       483\n",
      "       I-LOC      0.919     0.923     0.921     63587\n",
      "      B-MISC      0.893     0.263     0.407        95\n",
      "      I-MISC      0.869     0.773     0.819     49182\n",
      "       B-ORG      0.000     0.000     0.000        17\n",
      "       I-ORG      0.880     0.809     0.843     20955\n",
      "       B-PER      0.000     0.000     0.000        50\n",
      "       I-PER      0.948     0.939     0.944     45275\n",
      "\n",
      "   micro avg      0.909     0.872     0.890    179644\n",
      "   macro avg      0.668     0.548     0.585    179644\n",
      "weighted avg      0.907     0.872     0.888    179644\n",
      "\n"
     ]
    }
   ],
   "source": [
    "# group B and I results\n",
    "sorted_ents = sorted(\n",
    "    ents,\n",
    "    key=lambda name: (name[1:], name[0])\n",
    ")\n",
    "print(metrics.flat_classification_report(\n",
    "    y_test, y_pred, labels=sorted_ents, digits=3, zero_division=0\n",
    "))"
   ]
  },
  {
   "cell_type": "code",
   "execution_count": 88,
   "metadata": {},
   "outputs": [
    {
     "name": "stdout",
     "output_type": "stream",
     "text": [
      "Top likely transitions:\n",
      "I-MISC -> I-MISC  5.357717\n",
      "I-LOC  -> B-LOC   4.743796\n",
      "I-LOC  -> I-LOC   4.725043\n",
      "I-PER  -> B-PER   4.533795\n",
      "I-ORG  -> B-ORG   4.428066\n",
      "I-ORG  -> I-ORG   4.355276\n",
      "I-PER  -> I-PER   4.259028\n",
      "B-MISC -> B-MISC  3.795842\n",
      "I-MISC -> B-MISC  3.673432\n",
      "O      -> O       2.626591\n",
      "B-MISC -> I-MISC  1.931526\n",
      "B-PER  -> I-PER   1.792172\n",
      "B-LOC  -> I-LOC   1.784471\n",
      "B-ORG  -> I-ORG   1.107734\n",
      "I-MISC -> O       0.765725\n",
      "O      -> I-MISC  0.685723\n",
      "O      -> I-LOC   0.628833\n",
      "B-LOC  -> B-LOC   0.577431\n",
      "O      -> I-PER   0.470533\n",
      "B-ORG  -> B-PER   -0.002863\n",
      "\n",
      "Top unlikely transitions:\n",
      "B-MISC -> I-PER   -2.698492\n",
      "B-MISC -> I-ORG   -2.706838\n",
      "I-MISC -> I-LOC   -2.765926\n",
      "B-LOC  -> I-PER   -2.775726\n",
      "B-PER  -> I-MISC  -2.838762\n",
      "I-ORG  -> B-MISC  -2.913570\n",
      "I-PER  -> I-LOC   -2.966066\n",
      "I-ORG  -> I-LOC   -3.110156\n",
      "I-PER  -> I-ORG   -3.202826\n",
      "B-ORG  -> O       -3.284796\n",
      "O      -> B-ORG   -3.419635\n",
      "B-LOC  -> I-MISC  -3.576792\n",
      "I-MISC -> B-LOC   -3.596053\n",
      "B-LOC  -> I-ORG   -3.674142\n",
      "I-ORG  -> B-LOC   -3.861161\n",
      "B-PER  -> O       -4.209598\n",
      "B-LOC  -> O       -4.269534\n",
      "O      -> B-PER   -4.637213\n",
      "O      -> B-MISC  -5.325264\n",
      "O      -> B-LOC   -7.300611\n"
     ]
    }
   ],
   "source": [
    "def print_transitions(trans_features):\n",
    "    for (label_from, label_to), weight in trans_features:\n",
    "        print(\"%-6s -> %-7s %0.6f\" % (label_from, label_to, weight))\n",
    "\n",
    "print(\"Top likely transitions:\")\n",
    "print_transitions(Counter(crf.transition_features_).most_common(20))\n",
    "\n",
    "print(\"\\nTop unlikely transitions:\")\n",
    "print_transitions(Counter(crf.transition_features_).most_common()[-20:])"
   ]
  }
 ],
 "metadata": {
  "kernelspec": {
   "display_name": "Python 3",
   "language": "python",
   "name": "python3"
  },
  "language_info": {
   "codemirror_mode": {
    "name": "ipython",
    "version": 3
   },
   "file_extension": ".py",
   "mimetype": "text/x-python",
   "name": "python",
   "nbconvert_exporter": "python",
   "pygments_lexer": "ipython3",
   "version": "3.8.5"
  }
 },
 "nbformat": 4,
 "nbformat_minor": 4
}
